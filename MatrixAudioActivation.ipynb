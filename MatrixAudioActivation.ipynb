{
 "cells": [
  {
   "cell_type": "markdown",
   "id": "8e45c505",
   "metadata": {},
   "source": [
    "# Matrix Audio Activations"
   ]
  },
  {
   "cell_type": "code",
   "execution_count": null,
   "id": "337f1a9c",
   "metadata": {},
   "outputs": [],
   "source": [
    "%load_ext autoreload\n",
    "%autoreload 2\n",
    "import numpy as np\n",
    "import matplotlib.pyplot as plt\n",
    "import IPython.display as ipd\n",
    "from scipy.io import wavfile\n",
    "from dsp import *\n",
    "import warnings\n",
    "warnings.filterwarnings(\"ignore\")"
   ]
  },
  {
   "cell_type": "code",
   "execution_count": null,
   "id": "41a0a221",
   "metadata": {},
   "outputs": [],
   "source": [
    "sr, x = wavfile.read(\"clap.wav\")\n",
    "win = 2048*2\n",
    "hop = 512\n",
    "S = stft(x, win, hop)\n",
    "print(S.shape)\n",
    "plt.imshow(np.abs(S), aspect='auto')"
   ]
  },
  {
   "cell_type": "code",
   "execution_count": null,
   "id": "4230e80e",
   "metadata": {},
   "outputs": [],
   "source": []
  }
 ],
 "metadata": {
  "kernelspec": {
   "display_name": "Python 3 (ipykernel)",
   "language": "python",
   "name": "python3"
  },
  "language_info": {
   "codemirror_mode": {
    "name": "ipython",
    "version": 3
   },
   "file_extension": ".py",
   "mimetype": "text/x-python",
   "name": "python",
   "nbconvert_exporter": "python",
   "pygments_lexer": "ipython3",
   "version": "3.9.13"
  }
 },
 "nbformat": 4,
 "nbformat_minor": 5
}
