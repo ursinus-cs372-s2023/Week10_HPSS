{
 "cells": [
  {
   "cell_type": "markdown",
   "id": "ef94a490",
   "metadata": {},
   "source": [
    "# Harmonic-Percussive Source Separation\n",
    "\n",
    "Based on the paper at <a href = \"https://www.researchgate.net/profile/Derry-Fitzgerald/publication/254583990_HarmonicPercussive_Separation_using_Median_Filtering/links/00b495396ef03235af000000/Harmonic-Percussive-Separation-using-Median-Filtering.pdf\">this link</a>"
   ]
  },
  {
   "cell_type": "code",
   "execution_count": null,
   "id": "10beaac4",
   "metadata": {},
   "outputs": [],
   "source": [
    "%load_ext autoreload\n",
    "%autoreload 2\n",
    "import numpy as np\n",
    "import matplotlib.pyplot as plt\n",
    "import IPython.display as ipd\n",
    "from scipy import signal\n",
    "from scipy.io import wavfile\n",
    "from dsp import *\n",
    "import warnings\n",
    "warnings.filterwarnings(\"ignore\")"
   ]
  },
  {
   "cell_type": "code",
   "execution_count": null,
   "id": "ff3f7555",
   "metadata": {},
   "outputs": [],
   "source": [
    "sr, x = wavfile.read(\"violincastinets.wav\")\n",
    "\n",
    "S = stft(x, 2048, 512)\n",
    "plt.imshow(amplitude_to_db(np.abs(S)), cmap='magma', aspect='auto')\n",
    "plt.xlabel(\"Time Index\")\n",
    "plt.ylabel(\"Frequency Index\")\n",
    "plt.ylim([0, 500])\n",
    "plt.title(\"STFT\")\n",
    "\n",
    "ipd.Audio(x, rate=sr)"
   ]
  },
  {
   "cell_type": "code",
   "execution_count": null,
   "id": "8770619b",
   "metadata": {},
   "outputs": [],
   "source": []
  }
 ],
 "metadata": {
  "kernelspec": {
   "display_name": "Python 3 (ipykernel)",
   "language": "python",
   "name": "python3"
  },
  "language_info": {
   "codemirror_mode": {
    "name": "ipython",
    "version": 3
   },
   "file_extension": ".py",
   "mimetype": "text/x-python",
   "name": "python",
   "nbconvert_exporter": "python",
   "pygments_lexer": "ipython3",
   "version": "3.9.13"
  }
 },
 "nbformat": 4,
 "nbformat_minor": 5
}
